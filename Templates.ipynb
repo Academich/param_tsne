{
 "cells": [
  {
   "cell_type": "code",
   "execution_count": 1,
   "metadata": {},
   "outputs": [],
   "source": [
    "import pandas as pd"
   ]
  },
  {
   "cell_type": "code",
   "execution_count": 2,
   "metadata": {},
   "outputs": [
    {
     "name": "stderr",
     "output_type": "stream",
     "text": [
      "RDKit WARNING: [21:33:56] Enabling RDKit 2019.09.3 jupyter extensions\n"
     ]
    }
   ],
   "source": [
    "from rdkit import Chem\n",
    "from rdkit.Chem import PandasTools\n",
    "from rdkit.Chem import AllChem\n",
    "from rdkit.Chem import Draw"
   ]
  },
  {
   "cell_type": "code",
   "execution_count": 3,
   "metadata": {},
   "outputs": [],
   "source": [
    "from IPython.display import SVG, display"
   ]
  },
  {
   "cell_type": "code",
   "execution_count": 4,
   "metadata": {},
   "outputs": [],
   "source": [
    "def render_reaction(smarts, use_smiles=True, highlight=True):\n",
    "    rxn = AllChem.ReactionFromSmarts(smarts, useSmiles=use_smiles)\n",
    "    d = Draw.MolDraw2DSVG(900, 300)\n",
    "    if highlight:\n",
    "        colors=[(0.3,0.7,0.9),(0.9,0.7,0.9),(0.6,0.9,0.3),(0.9,0.9,0.1)]\n",
    "        d.DrawReaction(rxn, highlightByReactant=True, highlightColorsReactants=colors)\n",
    "    else:\n",
    "        d.DrawReaction(rxn)\n",
    "    d.FinishDrawing()\n",
    "\n",
    "    svg = d.GetDrawingText()\n",
    "    svg2 = svg.replace('svg:','').replace(':svg', '')\n",
    "    svg3 = SVG(svg2)\n",
    "    display(svg3)"
   ]
  },
  {
   "cell_type": "markdown",
   "metadata": {},
   "source": [
    "1808937 rows"
   ]
  },
  {
   "cell_type": "markdown",
   "metadata": {},
   "source": [
    "# ====================="
   ]
  },
  {
   "cell_type": "code",
   "execution_count": 5,
   "metadata": {},
   "outputs": [],
   "source": [
    "filepath = \"data/templates_whole_sanitized_us_patents.csv\""
   ]
  },
  {
   "cell_type": "code",
   "execution_count": 6,
   "metadata": {},
   "outputs": [],
   "source": [
    "x = pd.read_csv(filepath)"
   ]
  },
  {
   "cell_type": "code",
   "execution_count": 7,
   "metadata": {},
   "outputs": [],
   "source": [
    "x = x.set_index(\"index\")"
   ]
  },
  {
   "cell_type": "code",
   "execution_count": 8,
   "metadata": {},
   "outputs": [
    {
     "data": {
      "text/html": [
       "<div>\n",
       "<style scoped>\n",
       "    .dataframe tbody tr th:only-of-type {\n",
       "        vertical-align: middle;\n",
       "    }\n",
       "\n",
       "    .dataframe tbody tr th {\n",
       "        vertical-align: top;\n",
       "    }\n",
       "\n",
       "    .dataframe thead th {\n",
       "        text-align: right;\n",
       "    }\n",
       "</style>\n",
       "<table border=\"1\" class=\"dataframe\">\n",
       "  <thead>\n",
       "    <tr style=\"text-align: right;\">\n",
       "      <th></th>\n",
       "      <th>rxn</th>\n",
       "      <th>template</th>\n",
       "      <th>report</th>\n",
       "    </tr>\n",
       "    <tr>\n",
       "      <th>index</th>\n",
       "      <th></th>\n",
       "      <th></th>\n",
       "      <th></th>\n",
       "    </tr>\n",
       "  </thead>\n",
       "  <tbody>\n",
       "    <tr>\n",
       "      <th>0</th>\n",
       "      <td>[Br:1][CH2:2][CH2:3][OH:4].Cl[S:7]([CH2:5][CH3...</td>\n",
       "      <td>([#17]-[S;H0;+0:1](-[*:2])(=[*:3])=[*:4]).([*:...</td>\n",
       "      <td>success</td>\n",
       "    </tr>\n",
       "    <tr>\n",
       "      <th>1</th>\n",
       "      <td>[CH2:1]([CH2:2][OH:3])[Cl:4].CCOCC.Cl[S:14]([C...</td>\n",
       "      <td>([#17]-[S;H0;+0:1](-[*:2])(=[*:3])=[*:4]).([*:...</td>\n",
       "      <td>success</td>\n",
       "    </tr>\n",
       "    <tr>\n",
       "      <th>2</th>\n",
       "      <td>O=[N+:12]([O-])[c:9]1[cH:8][cH:7][cH:6][c:5]2[...</td>\n",
       "      <td>([#8]-[N+;H0:1](=[#8])-[*:2])&gt;&gt;([*:2]-[NH2;+0:1])</td>\n",
       "      <td>success</td>\n",
       "    </tr>\n",
       "    <tr>\n",
       "      <th>3</th>\n",
       "      <td>[O-][n+:3]1[c:2]([CH3:1])[cH:11][c:10]2[c:5]([...</td>\n",
       "      <td>([#15]-[Cl;H0;+0:1]).([#8]-[n+;H0:2](:[*:3]):[...</td>\n",
       "      <td>success</td>\n",
       "    </tr>\n",
       "    <tr>\n",
       "      <th>4</th>\n",
       "      <td>Cl.[OH:2][C@H:3]([CH:4]=[CH:5][CH:6]1[CH:7]([C...</td>\n",
       "      <td>([*:1]-[CH;+0:2]=[CH;+0:3]-[*:4])&gt;&gt;([*:1]-[CH2...</td>\n",
       "      <td>success</td>\n",
       "    </tr>\n",
       "    <tr>\n",
       "      <th>...</th>\n",
       "      <td>...</td>\n",
       "      <td>...</td>\n",
       "      <td>...</td>\n",
       "    </tr>\n",
       "    <tr>\n",
       "      <th>1002965</th>\n",
       "      <td>[N+:1](=[O:2])([O-:3])[c:4]1[cH:5][cH:6][c:7]2...</td>\n",
       "      <td>([*:1]:[c;H0;+0:2]1:[*:3]:[cH;+0:4]:[n;H0;+0:5...</td>\n",
       "      <td>success</td>\n",
       "    </tr>\n",
       "    <tr>\n",
       "      <th>1002966</th>\n",
       "      <td>[O:1]([c:2]1[cH:3][cH:4][cH:5][cH:6][cH:7]1)[c...</td>\n",
       "      <td>([#8]-[C;H0;+0:1](-[*:2])=[*:3]).([*:4]-[NH;+0...</td>\n",
       "      <td>success</td>\n",
       "    </tr>\n",
       "    <tr>\n",
       "      <th>1002967</th>\n",
       "      <td>CS(=O)(=O)O[CH2:6][C@@H:7]([c:8]1[cH:9][cH:10]...</td>\n",
       "      <td>([#8]-[CH2;+0:1]-[*:2]).([*:3]-[NH;+0:4]-[*:5]...</td>\n",
       "      <td>success</td>\n",
       "    </tr>\n",
       "    <tr>\n",
       "      <th>1002968</th>\n",
       "      <td>O=[N+]([O-])c1ccccc1S(=O)(=O)[N:24]([CH2:23][C...</td>\n",
       "      <td>([#16]-[N;H0;+0:1](-[*:2])-[*:3]-[C@H;+0;@:4](...</td>\n",
       "      <td>success</td>\n",
       "    </tr>\n",
       "    <tr>\n",
       "      <th>1002969</th>\n",
       "      <td>[CH3:1][O:2][c:3]1[cH:4][c:5]2[cH:6][cH:7][c:8...</td>\n",
       "      <td>([#7]-[Br;H0;+0:1]).([*:2]:[cH;+0:3]:[*:4])&gt;&gt;(...</td>\n",
       "      <td>success</td>\n",
       "    </tr>\n",
       "  </tbody>\n",
       "</table>\n",
       "<p>1002970 rows × 3 columns</p>\n",
       "</div>"
      ],
      "text/plain": [
       "                                                       rxn  \\\n",
       "index                                                        \n",
       "0        [Br:1][CH2:2][CH2:3][OH:4].Cl[S:7]([CH2:5][CH3...   \n",
       "1        [CH2:1]([CH2:2][OH:3])[Cl:4].CCOCC.Cl[S:14]([C...   \n",
       "2        O=[N+:12]([O-])[c:9]1[cH:8][cH:7][cH:6][c:5]2[...   \n",
       "3        [O-][n+:3]1[c:2]([CH3:1])[cH:11][c:10]2[c:5]([...   \n",
       "4        Cl.[OH:2][C@H:3]([CH:4]=[CH:5][CH:6]1[CH:7]([C...   \n",
       "...                                                    ...   \n",
       "1002965  [N+:1](=[O:2])([O-:3])[c:4]1[cH:5][cH:6][c:7]2...   \n",
       "1002966  [O:1]([c:2]1[cH:3][cH:4][cH:5][cH:6][cH:7]1)[c...   \n",
       "1002967  CS(=O)(=O)O[CH2:6][C@@H:7]([c:8]1[cH:9][cH:10]...   \n",
       "1002968  O=[N+]([O-])c1ccccc1S(=O)(=O)[N:24]([CH2:23][C...   \n",
       "1002969  [CH3:1][O:2][c:3]1[cH:4][c:5]2[cH:6][cH:7][c:8...   \n",
       "\n",
       "                                                  template   report  \n",
       "index                                                                \n",
       "0        ([#17]-[S;H0;+0:1](-[*:2])(=[*:3])=[*:4]).([*:...  success  \n",
       "1        ([#17]-[S;H0;+0:1](-[*:2])(=[*:3])=[*:4]).([*:...  success  \n",
       "2        ([#8]-[N+;H0:1](=[#8])-[*:2])>>([*:2]-[NH2;+0:1])  success  \n",
       "3        ([#15]-[Cl;H0;+0:1]).([#8]-[n+;H0:2](:[*:3]):[...  success  \n",
       "4        ([*:1]-[CH;+0:2]=[CH;+0:3]-[*:4])>>([*:1]-[CH2...  success  \n",
       "...                                                    ...      ...  \n",
       "1002965  ([*:1]:[c;H0;+0:2]1:[*:3]:[cH;+0:4]:[n;H0;+0:5...  success  \n",
       "1002966  ([#8]-[C;H0;+0:1](-[*:2])=[*:3]).([*:4]-[NH;+0...  success  \n",
       "1002967  ([#8]-[CH2;+0:1]-[*:2]).([*:3]-[NH;+0:4]-[*:5]...  success  \n",
       "1002968  ([#16]-[N;H0;+0:1](-[*:2])-[*:3]-[C@H;+0;@:4](...  success  \n",
       "1002969  ([#7]-[Br;H0;+0:1]).([*:2]:[cH;+0:3]:[*:4])>>(...  success  \n",
       "\n",
       "[1002970 rows x 3 columns]"
      ]
     },
     "execution_count": 8,
     "metadata": {},
     "output_type": "execute_result"
    }
   ],
   "source": [
    "x"
   ]
  },
  {
   "cell_type": "code",
   "execution_count": 11,
   "metadata": {},
   "outputs": [],
   "source": [
    "notna_templates = x[x.template.notna()][[\"rxn\", \"template\"]]"
   ]
  },
  {
   "cell_type": "code",
   "execution_count": 12,
   "metadata": {},
   "outputs": [
    {
     "data": {
      "text/html": [
       "<div>\n",
       "<style scoped>\n",
       "    .dataframe tbody tr th:only-of-type {\n",
       "        vertical-align: middle;\n",
       "    }\n",
       "\n",
       "    .dataframe tbody tr th {\n",
       "        vertical-align: top;\n",
       "    }\n",
       "\n",
       "    .dataframe thead th {\n",
       "        text-align: right;\n",
       "    }\n",
       "</style>\n",
       "<table border=\"1\" class=\"dataframe\">\n",
       "  <thead>\n",
       "    <tr style=\"text-align: right;\">\n",
       "      <th></th>\n",
       "      <th>rxn</th>\n",
       "      <th>template</th>\n",
       "    </tr>\n",
       "    <tr>\n",
       "      <th>index</th>\n",
       "      <th></th>\n",
       "      <th></th>\n",
       "    </tr>\n",
       "  </thead>\n",
       "  <tbody>\n",
       "    <tr>\n",
       "      <th>0</th>\n",
       "      <td>[Br:1][CH2:2][CH2:3][OH:4].Cl[S:7]([CH2:5][CH3...</td>\n",
       "      <td>([#17]-[S;H0;+0:1](-[*:2])(=[*:3])=[*:4]).([*:...</td>\n",
       "    </tr>\n",
       "    <tr>\n",
       "      <th>1</th>\n",
       "      <td>[CH2:1]([CH2:2][OH:3])[Cl:4].CCOCC.Cl[S:14]([C...</td>\n",
       "      <td>([#17]-[S;H0;+0:1](-[*:2])(=[*:3])=[*:4]).([*:...</td>\n",
       "    </tr>\n",
       "    <tr>\n",
       "      <th>2</th>\n",
       "      <td>O=[N+:12]([O-])[c:9]1[cH:8][cH:7][cH:6][c:5]2[...</td>\n",
       "      <td>([#8]-[N+;H0:1](=[#8])-[*:2])&gt;&gt;([*:2]-[NH2;+0:1])</td>\n",
       "    </tr>\n",
       "    <tr>\n",
       "      <th>3</th>\n",
       "      <td>[O-][n+:3]1[c:2]([CH3:1])[cH:11][c:10]2[c:5]([...</td>\n",
       "      <td>([#15]-[Cl;H0;+0:1]).([#8]-[n+;H0:2](:[*:3]):[...</td>\n",
       "    </tr>\n",
       "    <tr>\n",
       "      <th>4</th>\n",
       "      <td>Cl.[OH:2][C@H:3]([CH:4]=[CH:5][CH:6]1[CH:7]([C...</td>\n",
       "      <td>([*:1]-[CH;+0:2]=[CH;+0:3]-[*:4])&gt;&gt;([*:1]-[CH2...</td>\n",
       "    </tr>\n",
       "    <tr>\n",
       "      <th>...</th>\n",
       "      <td>...</td>\n",
       "      <td>...</td>\n",
       "    </tr>\n",
       "    <tr>\n",
       "      <th>1002965</th>\n",
       "      <td>[N+:1](=[O:2])([O-:3])[c:4]1[cH:5][cH:6][c:7]2...</td>\n",
       "      <td>([*:1]:[c;H0;+0:2]1:[*:3]:[cH;+0:4]:[n;H0;+0:5...</td>\n",
       "    </tr>\n",
       "    <tr>\n",
       "      <th>1002966</th>\n",
       "      <td>[O:1]([c:2]1[cH:3][cH:4][cH:5][cH:6][cH:7]1)[c...</td>\n",
       "      <td>([#8]-[C;H0;+0:1](-[*:2])=[*:3]).([*:4]-[NH;+0...</td>\n",
       "    </tr>\n",
       "    <tr>\n",
       "      <th>1002967</th>\n",
       "      <td>CS(=O)(=O)O[CH2:6][C@@H:7]([c:8]1[cH:9][cH:10]...</td>\n",
       "      <td>([#8]-[CH2;+0:1]-[*:2]).([*:3]-[NH;+0:4]-[*:5]...</td>\n",
       "    </tr>\n",
       "    <tr>\n",
       "      <th>1002968</th>\n",
       "      <td>O=[N+]([O-])c1ccccc1S(=O)(=O)[N:24]([CH2:23][C...</td>\n",
       "      <td>([#16]-[N;H0;+0:1](-[*:2])-[*:3]-[C@H;+0;@:4](...</td>\n",
       "    </tr>\n",
       "    <tr>\n",
       "      <th>1002969</th>\n",
       "      <td>[CH3:1][O:2][c:3]1[cH:4][c:5]2[cH:6][cH:7][c:8...</td>\n",
       "      <td>([#7]-[Br;H0;+0:1]).([*:2]:[cH;+0:3]:[*:4])&gt;&gt;(...</td>\n",
       "    </tr>\n",
       "  </tbody>\n",
       "</table>\n",
       "<p>939648 rows × 2 columns</p>\n",
       "</div>"
      ],
      "text/plain": [
       "                                                       rxn  \\\n",
       "index                                                        \n",
       "0        [Br:1][CH2:2][CH2:3][OH:4].Cl[S:7]([CH2:5][CH3...   \n",
       "1        [CH2:1]([CH2:2][OH:3])[Cl:4].CCOCC.Cl[S:14]([C...   \n",
       "2        O=[N+:12]([O-])[c:9]1[cH:8][cH:7][cH:6][c:5]2[...   \n",
       "3        [O-][n+:3]1[c:2]([CH3:1])[cH:11][c:10]2[c:5]([...   \n",
       "4        Cl.[OH:2][C@H:3]([CH:4]=[CH:5][CH:6]1[CH:7]([C...   \n",
       "...                                                    ...   \n",
       "1002965  [N+:1](=[O:2])([O-:3])[c:4]1[cH:5][cH:6][c:7]2...   \n",
       "1002966  [O:1]([c:2]1[cH:3][cH:4][cH:5][cH:6][cH:7]1)[c...   \n",
       "1002967  CS(=O)(=O)O[CH2:6][C@@H:7]([c:8]1[cH:9][cH:10]...   \n",
       "1002968  O=[N+]([O-])c1ccccc1S(=O)(=O)[N:24]([CH2:23][C...   \n",
       "1002969  [CH3:1][O:2][c:3]1[cH:4][c:5]2[cH:6][cH:7][c:8...   \n",
       "\n",
       "                                                  template  \n",
       "index                                                       \n",
       "0        ([#17]-[S;H0;+0:1](-[*:2])(=[*:3])=[*:4]).([*:...  \n",
       "1        ([#17]-[S;H0;+0:1](-[*:2])(=[*:3])=[*:4]).([*:...  \n",
       "2        ([#8]-[N+;H0:1](=[#8])-[*:2])>>([*:2]-[NH2;+0:1])  \n",
       "3        ([#15]-[Cl;H0;+0:1]).([#8]-[n+;H0:2](:[*:3]):[...  \n",
       "4        ([*:1]-[CH;+0:2]=[CH;+0:3]-[*:4])>>([*:1]-[CH2...  \n",
       "...                                                    ...  \n",
       "1002965  ([*:1]:[c;H0;+0:2]1:[*:3]:[cH;+0:4]:[n;H0;+0:5...  \n",
       "1002966  ([#8]-[C;H0;+0:1](-[*:2])=[*:3]).([*:4]-[NH;+0...  \n",
       "1002967  ([#8]-[CH2;+0:1]-[*:2]).([*:3]-[NH;+0:4]-[*:5]...  \n",
       "1002968  ([#16]-[N;H0;+0:1](-[*:2])-[*:3]-[C@H;+0;@:4](...  \n",
       "1002969  ([#7]-[Br;H0;+0:1]).([*:2]:[cH;+0:3]:[*:4])>>(...  \n",
       "\n",
       "[939648 rows x 2 columns]"
      ]
     },
     "execution_count": 12,
     "metadata": {},
     "output_type": "execute_result"
    }
   ],
   "source": [
    "notna_templates"
   ]
  },
  {
   "cell_type": "code",
   "execution_count": 29,
   "metadata": {},
   "outputs": [
    {
     "data": {
      "text/plain": [
       "171852"
      ]
     },
     "execution_count": 29,
     "metadata": {},
     "output_type": "execute_result"
    }
   ],
   "source": [
    "notna_templates.template.nunique()"
   ]
  },
  {
   "cell_type": "markdown",
   "metadata": {},
   "source": [
    "Всего 171852 уникальных темплейтов"
   ]
  },
  {
   "cell_type": "code",
   "execution_count": 38,
   "metadata": {},
   "outputs": [],
   "source": [
    "unique_templates = pd.unique(notna_templates.template)"
   ]
  },
  {
   "cell_type": "code",
   "execution_count": 34,
   "metadata": {},
   "outputs": [
    {
     "data": {
      "text/plain": [
       "(171852,)"
      ]
     },
     "execution_count": 34,
     "metadata": {},
     "output_type": "execute_result"
    }
   ],
   "source": [
    "unique_templates.shape"
   ]
  },
  {
   "cell_type": "code",
   "execution_count": 39,
   "metadata": {},
   "outputs": [],
   "source": [
    "unique_templates = pd.Series(unique_templates)"
   ]
  },
  {
   "cell_type": "code",
   "execution_count": 40,
   "metadata": {},
   "outputs": [
    {
     "data": {
      "text/plain": [
       "0         ([#17]-[S;H0;+0:1](-[*:2])(=[*:3])=[*:4]).([*:...\n",
       "1         ([#17]-[S;H0;+0:1](-[*:2])(=[*:3])=[*:4]).([*:...\n",
       "2         ([#8]-[N+;H0:1](=[#8])-[*:2])>>([*:2]-[NH2;+0:1])\n",
       "3         ([#15]-[Cl;H0;+0:1]).([#8]-[n+;H0:2](:[*:3]):[...\n",
       "4         ([*:1]-[CH;+0:2]=[CH;+0:3]-[*:4])>>([*:1]-[CH2...\n",
       "                                ...                        \n",
       "171847    ([#35]-[CH2;+0:1]-[C]).([*:2]-[CH;+0:3]1-[CH2;...\n",
       "171848    ([*:1]-[C;H0;+0:2](-[*:3])=[O;H0;+0:4].[*:5]-[...\n",
       "171849    ([*:1]-[OH;+0:2]).([*:3]:[c;H0;+0:4](-[C]):[*:...\n",
       "171850    ([#7]#[C;H0;+0:1]-[c]).([#8]=[C;H0;+0:2](-[CH3...\n",
       "171851    ([*:1]:[c;H0;+0:2]1:[*:3]:[cH;+0:4]:[n;H0;+0:5...\n",
       "Length: 171852, dtype: object"
      ]
     },
     "execution_count": 40,
     "metadata": {},
     "output_type": "execute_result"
    }
   ],
   "source": [
    "unique_templates"
   ]
  },
  {
   "cell_type": "code",
   "execution_count": 47,
   "metadata": {},
   "outputs": [],
   "source": [
    "unique_templates.to_csv(\"data/unique_templates_whole_usp.csv\", header=None, index=None)"
   ]
  },
  {
   "cell_type": "code",
   "execution_count": 48,
   "metadata": {},
   "outputs": [],
   "source": [
    "notna_templates.to_csv(\"data/templates_whole_usp.csv\", index=None)"
   ]
  }
 ],
 "metadata": {
  "kernelspec": {
   "display_name": "Python 3",
   "language": "python",
   "name": "python3"
  },
  "language_info": {
   "codemirror_mode": {
    "name": "ipython",
    "version": 3
   },
   "file_extension": ".py",
   "mimetype": "text/x-python",
   "name": "python",
   "nbconvert_exporter": "python",
   "pygments_lexer": "ipython3",
   "version": "3.6.11"
  }
 },
 "nbformat": 4,
 "nbformat_minor": 4
}
